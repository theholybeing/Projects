{
 "cells": [
  {
   "cell_type": "code",
   "execution_count": 17,
   "metadata": {
    "execution": {
     "iopub.execute_input": "2025-08-03T11:27:53.574034Z",
     "iopub.status.busy": "2025-08-03T11:27:53.573721Z",
     "iopub.status.idle": "2025-08-03T11:27:53.582971Z",
     "shell.execute_reply": "2025-08-03T11:27:53.581774Z",
     "shell.execute_reply.started": "2025-08-03T11:27:53.574010Z"
    }
   },
   "outputs": [
    {
     "name": "stderr",
     "output_type": "stream",
     "text": [
      "[nltk_data] Downloading package stopwords to /usr/share/nltk_data...\n",
      "[nltk_data]   Package stopwords is already up-to-date!\n",
      "[nltk_data] Downloading package wordnet to /usr/share/nltk_data...\n",
      "[nltk_data]   Package wordnet is already up-to-date!\n"
     ]
    },
    {
     "data": {
      "text/plain": [
       "True"
      ]
     },
     "execution_count": 17,
     "metadata": {},
     "output_type": "execute_result"
    }
   ],
   "source": [
    "import pandas as pd\n",
    "import numpy as np\n",
    "import re\n",
    "import string\n",
    "import joblib\n",
    "import seaborn as sns\n",
    "import matplotlib.pyplot as plt\n",
    "from sklearn.model_selection import train_test_split\n",
    "from sklearn.feature_extraction.text import TfidfVectorizer\n",
    "from sklearn.linear_model import LogisticRegression\n",
    "from sklearn.metrics import accuracy_score, classification_report, confusion_matrix\n",
    "from nltk.corpus import stopwords\n",
    "from nltk.stem import WordNetLemmatizer\n",
    "import nltk\n",
    "\n",
    "nltk.download('stopwords')\n",
    "nltk.download('wordnet')"
   ]
  },
  {
   "cell_type": "code",
   "execution_count": 18,
   "metadata": {
    "execution": {
     "iopub.execute_input": "2025-08-03T11:27:53.584763Z",
     "iopub.status.busy": "2025-08-03T11:27:53.584498Z",
     "iopub.status.idle": "2025-08-03T11:27:56.292074Z",
     "shell.execute_reply": "2025-08-03T11:27:56.291196Z",
     "shell.execute_reply.started": "2025-08-03T11:27:53.584742Z"
    }
   },
   "outputs": [
    {
     "name": "stdout",
     "output_type": "stream",
     "text": [
      "   Unnamed: 0                                               text        class\n",
      "0           2  Ex Wife Threatening SuicideRecently I left my ...      suicide\n",
      "1           3  Am I weird I don't get affected by compliments...  non-suicide\n",
      "2           4  Finally 2020 is almost over... So I can never ...  non-suicide\n",
      "3           8          i need helpjust help me im crying so hard      suicide\n",
      "4           9  I’m so lostHello, my name is Adam (16) and I’v...      suicide\n",
      "<class 'pandas.core.frame.DataFrame'>\n",
      "RangeIndex: 232074 entries, 0 to 232073\n",
      "Data columns (total 3 columns):\n",
      " #   Column      Non-Null Count   Dtype \n",
      "---  ------      --------------   ----- \n",
      " 0   Unnamed: 0  232074 non-null  int64 \n",
      " 1   text        232074 non-null  object\n",
      " 2   class       232074 non-null  object\n",
      "dtypes: int64(1), object(2)\n",
      "memory usage: 5.3+ MB\n",
      "None\n",
      "class\n",
      "suicide        116037\n",
      "non-suicide    116037\n",
      "Name: count, dtype: int64\n"
     ]
    }
   ],
   "source": [
    "data = pd.read_csv('data/Suicide_Detection.csv')\n",
    "\n",
    "print(data.head())\n",
    "print(data.info())\n",
    "\n",
    "print(data['class'].value_counts())\n"
   ]
  },
  {
   "cell_type": "code",
   "execution_count": 19,
   "metadata": {
    "execution": {
     "iopub.execute_input": "2025-08-03T11:27:56.293321Z",
     "iopub.status.busy": "2025-08-03T11:27:56.293005Z",
     "iopub.status.idle": "2025-08-03T11:27:56.549460Z",
     "shell.execute_reply": "2025-08-03T11:27:56.548321Z",
     "shell.execute_reply.started": "2025-08-03T11:27:56.293297Z"
    }
   },
   "outputs": [
    {
     "data": {
      "image/png": "[encoded data removed]",
      "text/plain": [
       "<Figure size 640x480 with 1 Axes>"
      ]
     },
     "metadata": {},
     "output_type": "display_data"
    }
   ],
   "source": [
    "sns.countplot(x='class', data=data)\n",
    "plt.title('Class Distribution')\n",
    "plt.show()"
   ]
  },
  {
   "cell_type": "code",
   "execution_count": 20,
   "metadata": {
    "execution": {
     "iopub.execute_input": "2025-08-03T11:27:56.552241Z",
     "iopub.status.busy": "2025-08-03T11:27:56.551696Z",
     "iopub.status.idle": "2025-08-03T11:29:03.863852Z",
     "shell.execute_reply": "2025-08-03T11:29:03.862854Z",
     "shell.execute_reply.started": "2025-08-03T11:27:56.552210Z"
    }
   },
   "outputs": [
    {
     "name": "stdout",
     "output_type": "stream",
     "text": [
      "                                                text  \\\n",
      "0  Ex Wife Threatening SuicideRecently I left my ...   \n",
      "1  Am I weird I don't get affected by compliments...   \n",
      "2  Finally 2020 is almost over... So I can never ...   \n",
      "3          i need helpjust help me im crying so hard   \n",
      "4  I’m so lostHello, my name is Adam (16) and I’v...   \n",
      "\n",
      "                                          clean_text  \n",
      "0  ex wife threatening suiciderecently left wife ...  \n",
      "1  weird dont get affected compliment coming some...  \n",
      "2  finally almost never hear bad year ever swear ...  \n",
      "3                     need helpjust help im cry hard  \n",
      "4  im losthello name adam ive struggling year im ...  \n"
     ]
    }
   ],
   "source": [
    "stop_words = set(stopwords.words('english'))\n",
    "lemmatizer = WordNetLemmatizer()\n",
    "\n",
    "def clean_text(text):\n",
    "    text = str(text).lower()\n",
    "    text = re.sub(r'http\\S+', '', text)\n",
    "    text = re.sub(r'@\\w+', '', text)\n",
    "    text = re.sub(r'#\\w+', '', text)\n",
    "    text = re.sub(r'[^a-z\\s]', '', text)\n",
    "    tokens = [lemmatizer.lemmatize(word) for word in text.split() if word not in stop_words]\n",
    "    return ' '.join(tokens)\n",
    "\n",
    "data['clean_text'] = data['text'].apply(clean_text)\n",
    "print(data[['text', 'clean_text']].head())"
   ]
  },
  {
   "cell_type": "code",
   "execution_count": 26,
   "metadata": {
    "execution": {
     "iopub.execute_input": "2025-08-03T11:30:41.594022Z",
     "iopub.status.busy": "2025-08-03T11:30:41.593645Z",
     "iopub.status.idle": "2025-08-03T11:30:41.734014Z",
     "shell.execute_reply": "2025-08-03T11:30:41.733205Z",
     "shell.execute_reply.started": "2025-08-03T11:30:41.593996Z"
    }
   },
   "outputs": [],
   "source": [
    "data['label'] = data['class'].map({'suicide': 1, 'non-suicide': 0})\n",
    "\n",
    "X = data['clean_text']\n",
    "y = data['label']\n",
    "\n",
    "X_train, X_test, y_train, y_test = train_test_split(\n",
    "    X, y, test_size=0.2, random_state=42, stratify=y)"
   ]
  },
  {
   "cell_type": "code",
   "execution_count": 22,
   "metadata": {
    "execution": {
     "iopub.execute_input": "2025-08-03T11:29:04.027702Z",
     "iopub.status.busy": "2025-08-03T11:29:04.026744Z",
     "iopub.status.idle": "2025-08-03T11:29:50.298640Z",
     "shell.execute_reply": "2025-08-03T11:29:50.297735Z",
     "shell.execute_reply.started": "2025-08-03T11:29:04.027675Z"
    }
   },
   "outputs": [],
   "source": [
    "vectorizer = TfidfVectorizer(max_features=5000, ngram_range=(1, 2))\n",
    "X_train_tfidf = vectorizer.fit_transform(X_train)\n",
    "X_test_tfidf = vectorizer.transform(X_test)"
   ]
  },
  {
   "cell_type": "code",
   "execution_count": 23,
   "metadata": {
    "execution": {
     "iopub.execute_input": "2025-08-03T11:29:50.299871Z",
     "iopub.status.busy": "2025-08-03T11:29:50.299586Z",
     "iopub.status.idle": "2025-08-03T11:29:54.968786Z",
     "shell.execute_reply": "2025-08-03T11:29:54.967862Z",
     "shell.execute_reply.started": "2025-08-03T11:29:50.299847Z"
    }
   },
   "outputs": [
    {
     "name": "stdout",
     "output_type": "stream",
     "text": [
      "Accuracy: 0.9332974254012711\n",
      "\n",
      "Classification Report:\n",
      "               precision    recall  f1-score   support\n",
      "\n",
      "           0       0.93      0.94      0.93     23208\n",
      "           1       0.94      0.92      0.93     23207\n",
      "\n",
      "    accuracy                           0.93     46415\n",
      "   macro avg       0.93      0.93      0.93     46415\n",
      "weighted avg       0.93      0.93      0.93     46415\n",
      "\n"
     ]
    }
   ],
   "source": [
    "model = LogisticRegression(max_iter=1000, class_weight='balanced')\n",
    "model.fit(X_train_tfidf, y_train)\n",
    "\n",
    "y_pred = model.predict(X_test_tfidf)\n",
    "\n",
    "print(\"Accuracy:\", accuracy_score(y_test, y_pred))\n",
    "print(\"\\nClassification Report:\\n\", classification_report(y_test, y_pred))"
   ]
  },
  {
   "cell_type": "code",
   "execution_count": 24,
   "metadata": {
    "execution": {
     "iopub.execute_input": "2025-08-03T11:29:54.970203Z",
     "iopub.status.busy": "2025-08-03T11:29:54.969874Z",
     "iopub.status.idle": "2025-08-03T11:29:55.155052Z",
     "shell.execute_reply": "2025-08-03T11:29:55.154235Z",
     "shell.execute_reply.started": "2025-08-03T11:29:54.970153Z"
    }
   },
   "outputs": [
    {
     "data": {
      "image/png": "[encoded data removed]",
      "text/plain": [
       "<Figure size 640x480 with 2 Axes>"
      ]
     },
     "metadata": {},
     "output_type": "display_data"
    }
   ],
   "source": [
    "cm = confusion_matrix(y_test, y_pred)\n",
    "sns.heatmap(cm, annot=True, fmt='d', cmap='Blues')\n",
    "plt.xlabel('Predicted')\n",
    "plt.ylabel('Actual')\n",
    "plt.show()"
   ]
  },
  {
   "cell_type": "code",
   "execution_count": 25,
   "metadata": {
    "execution": {
     "iopub.execute_input": "2025-08-03T11:29:55.156633Z",
     "iopub.status.busy": "2025-08-03T11:29:55.156046Z",
     "iopub.status.idle": "2025-08-03T11:30:06.095998Z",
     "shell.execute_reply": "2025-08-03T11:30:06.095036Z",
     "shell.execute_reply.started": "2025-08-03T11:29:55.156602Z"
    }
   },
   "outputs": [
    {
     "data": {
      "text/plain": [
       "['tfidf_vectorizer.pkl']"
      ]
     },
     "execution_count": 25,
     "metadata": {},
     "output_type": "execute_result"
    }
   ],
   "source": [
    "joblib.dump(model, 'suicide_detection_model.pkl')\n",
    "joblib.dump(vectorizer, 'tfidf_vectorizer.pkl')"
   ]
  }
 ],
 "metadata": {
  "kaggle": {
   "accelerator": "none",
   "dataSources": [
    {
     "datasetId": 1075326,
     "sourceId": 2250642,
     "sourceType": "datasetVersion"
    }
   ],
   "dockerImageVersionId": 31089,
   "isGpuEnabled": false,
   "isInternetEnabled": true,
   "language": "python",
   "sourceType": "notebook"
  },
  "kernelspec": {
   "display_name": "Python 3 (ipykernel)",
   "language": "python",
   "name": "python3"
  },
  "language_info": {
   "codemirror_mode": {
    "name": "ipython",
    "version": 3
   },
   "file_extension": ".py",
   "mimetype": "text/x-python",
   "name": "python",
   "nbconvert_exporter": "python",
   "pygments_lexer": "ipython3",
   "version": "3.12.4"
  }
 },
 "nbformat": 4,
 "nbformat_minor": 4
}
